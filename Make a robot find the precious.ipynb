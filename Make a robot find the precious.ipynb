{
 "cells": [
  {
   "cell_type": "markdown",
   "metadata": {},
   "source": [
    "## 控制迷宫寻宝机器人\n",
    "\n",
    "在这个项目中，你将使用刚刚学到的知识，尝试根据要求，编写代码，来控制一个机器人，在模拟环境中行走，并找到目标宝藏。\n",
    "\n",
    "机器人所在的模拟环境中，会包含这样几个因素：机器人的起点、障碍物、宝藏箱。你的任务包括：\n",
    "\n",
    "1. 分析模拟环境的数据\n",
    "2. 控制机器人随机行动\n",
    "3. （可选）控制机器人走到终点\n",
    "\n",
    "\n",
    "* 一个良好的含有注释的代码，可以让你的程序可读性更高，尝试为你自己的代码添加相应的注释。"
   ]
  },
  {
   "cell_type": "markdown",
   "metadata": {},
   "source": [
    "---\n",
    "\n",
    "---\n",
    "\n",
    "## 第一节 分析模拟环境的数据\n",
    "\n",
    "首先，只有足够了解机器人所在的环境，我们的机器人才能成功找到目标宝藏，因此首先我们来对机器人所在环境的数据进行分析。在这个部分，会考察你对数据结构、控制流的了解。\n"
   ]
  },
  {
   "cell_type": "markdown",
   "metadata": {},
   "source": [
    "### 1.1 理解模拟环境数据的储存格式\n",
    "\n",
    "首先我们思考这样的问题：如何存储模拟环境的数据呢？\n",
    "\n",
    "我们将我们的模拟环境抽象成一个格子世界，每个格子按照坐标编号进行标记；每个格子中会有四个情况，分别为普通格子（可通行）、机器人的起点（可通行）、障碍物（不可通行）、宝藏箱（目标点）。例如，一个模拟环境就可以抽象成3行4列的格子世界，并按这按这样的方法进行存储：\n",
    "```\n",
    "environment = [[0,0,0,2], \n",
    "               [1,2,0,0],\n",
    "               [0,2,3,2]]\n",
    "```\n",
    "我们用了一个列表来保存虚拟世界的数据。外层列表中的每一个元素依然是一个列表，它代表模拟环境中每行的数据。而对于这个列表中的每个元素都是一个数，它们的含义是：\n",
    "- 0: 普通格子（可通行）\n",
    "- 1: 机器人的起点（可通行）\n",
    "- 2: 障碍物（不可通行）\n",
    "- 3: 宝藏箱（目标点）\n",
    "\n",
    "那么，根据上述的数据，这个迷宫的第二行第一列，是我们机器人的起点。\n",
    "\n",
    "__注：我们描述的迷宫的坐标位置（第一行第一列），和迷宫下标索引的值（如 `(0,0)`）是不一样的，请注意下标的问题。__\n",
    "\n",
    "\n",
    "如下的代码，使用了辅助函数，读取了模拟环境的数据，并保存在了 `env_data` 变量中。\n"
   ]
  },
  {
   "cell_type": "code",
   "execution_count": 1,
   "metadata": {},
   "outputs": [
    {
     "name": "stdout",
     "output_type": "stream",
     "text": [
      "maze-id 1-1595866879\n",
      "[[3, 2, 2, 2, 2, 2, 2, 2, 1],\n",
      " [0, 0, 2, 2, 2, 2, 2, 0, 0],\n",
      " [2, 0, 0, 2, 2, 2, 0, 0, 2],\n",
      " [2, 2, 0, 0, 2, 0, 0, 2, 2],\n",
      " [2, 2, 2, 0, 0, 0, 2, 2, 2]]\n"
     ]
    }
   ],
   "source": [
    "import helper\n",
    "\n",
    "env_data = helper.fetch_maze()"
   ]
  },
  {
   "cell_type": "markdown",
   "metadata": {},
   "source": [
    "---\n",
    "\n",
    "\n",
    "**任务1：**在如下代码中，请写代码获得这些值：\n",
    "\n",
    "1. 模拟环境的长和宽\n",
    "2. 模拟环境中第3行第6列元素"
   ]
  },
  {
   "cell_type": "code",
   "execution_count": 2,
   "metadata": {},
   "outputs": [
    {
     "name": "stdout",
     "output_type": "stream",
     "text": [
      "迷宫共有 5 行 9 列，第三行第六列的元素是 2\n"
     ]
    }
   ],
   "source": [
    "#TODO 1模拟环境的行数\n",
    "rows = len(env_data)\n",
    "\n",
    "#TODO 2模拟环境的列数\n",
    "columns = len(env_data[0])\n",
    "\n",
    "#TODO 3取出模拟环境第三行第六列的元素\n",
    "row_3_col_6 = env_data[2][5]\n",
    "\n",
    "print(\"迷宫共有\", rows, \"行\", columns, \"列，第三行第六列的元素是\", row_3_col_6)"
   ]
  },
  {
   "cell_type": "markdown",
   "metadata": {
    "collapsed": true
   },
   "source": [
    "---\n",
    "\n",
    "## 1.2 分析模拟环境数据\n",
    "\n",
    "接着我们需要对模拟环境的中的数据进行分析。请根据如下的指示，计算相应的值。\n",
    "\n",
    "---\n",
    "\n",
    "**任务2：**在如下代码中，请计算模拟环境中，第一行和第三列的障碍物个数。\n",
    "\n",
    "提示：*可以用循环完成。*"
   ]
  },
  {
   "cell_type": "code",
   "execution_count": 3,
   "metadata": {},
   "outputs": [
    {
     "name": "stdout",
     "output_type": "stream",
     "text": [
      "迷宫中，第一行共有 7 个障碍物，第三列共有 3 个障碍物。\n"
     ]
    }
   ],
   "source": [
    "#TODO 4计算模拟环境中，第一行的的障碍物个数。\n",
    "\n",
    "number_of_barriers_row1 = None\n",
    "for figure in env_data[0]:\n",
    "    if figure == 2:\n",
    "        if number_of_barriers_row1 == None:\n",
    "            number_of_barriers_row1 = 0\n",
    "        number_of_barriers_row1 += 1  \n",
    "\n",
    "#number_of_barriers_row1 = env_data[0].count(2)\n",
    "\n",
    "\n",
    "#TODO 5计算模拟环境中，第三列的的障碍物个数。\n",
    "\n",
    "number_of_barriers_col3 = None\n",
    "for point in range(rows):\n",
    "    for i,figure in enumerate(env_data[point]):\n",
    "        if i == 2 and figure == 2:\n",
    "            if number_of_barriers_col3 == None:\n",
    "                number_of_barriers_col3 = 0\n",
    "            number_of_barriers_col3 += 1\n",
    "\n",
    "#number_of_barriers_col3 = list(zip(*env_data))[2].count(2)\n",
    "\n",
    "print(\"迷宫中，第一行共有\", number_of_barriers_row1, \"个障碍物，第三列共有\", number_of_barriers_col3, \"个障碍物。\")"
   ]
  },
  {
   "cell_type": "code",
   "execution_count": 4,
   "metadata": {},
   "outputs": [
    {
     "name": "stderr",
     "output_type": "stream",
     "text": [
      ".\n",
      "----------------------------------------------------------------------\n",
      "Ran 1 test in 0.003s\n",
      "\n",
      "OK\n"
     ]
    }
   ],
   "source": [
    "%run -i -e test.py RobotControllortTestCase.test_cal_barriers"
   ]
  },
  {
   "cell_type": "markdown",
   "metadata": {},
   "source": [
    "---\n",
    "\n",
    "**任务3：**在如下代码中：\n",
    "\n",
    "1. 创建一个名为 `loc_map` 的字典，它有两个键值，分别为 `start` 和 `destination`，对应的值分别为起点和目标点的坐标，它们以如 `(0,0)` 的形式保存为元组。\n",
    "2. 从字典中取出 `start` 对应的值，保存在 `robot_current_loc` 对应的变量中，这个变量表示小车现在的位置。"
   ]
  },
  {
   "cell_type": "code",
   "execution_count": 5,
   "metadata": {},
   "outputs": [],
   "source": [
    "#TODO 6按照上述要求创建字典\n",
    "start_val = 1\n",
    "destination_val = 3\n",
    "\n",
    "#获取迷宫中的机器人位置\n",
    "def get_location(maze, value):  \n",
    "    for x in range(rows):\n",
    "        for y in range(columns):\n",
    "            if maze[x][y] == value:\n",
    "                return(x,y)\n",
    "loc_map = {\n",
    "    'start': get_location(env_data, start_val),\n",
    "    'destination': get_location(env_data, destination_val)\n",
    "} \n",
    "\n",
    "#TODO 7保存机器人当前的位置\n",
    "robot_current_loc = None\n",
    "robot_current_loc = loc_map['start'] "
   ]
  },
  {
   "cell_type": "code",
   "execution_count": 6,
   "metadata": {},
   "outputs": [
    {
     "name": "stderr",
     "output_type": "stream",
     "text": [
      ".\n",
      "----------------------------------------------------------------------\n",
      "Ran 1 test in 0.002s\n",
      "\n",
      "OK\n"
     ]
    }
   ],
   "source": [
    "%run -i -e test.py RobotControllortTestCase.test_cal_loc_map"
   ]
  },
  {
   "cell_type": "markdown",
   "metadata": {},
   "source": [
    "\n",
    "---\n",
    "\n",
    "---\n",
    "\n",
    "## 第二节 控制机器人随机漫步\n",
    "\n",
    "在这一步中，你需发出指令，控制机器人在环境中随机行动。它会考察你对控制流、调用函数的知识。"
   ]
  },
  {
   "cell_type": "markdown",
   "metadata": {},
   "source": [
    "\n",
    "\n",
    "## 2.1 控制机器人行动\n",
    "\n",
    "我们的机器人能够执行四个动作：向上走 `u`、向下走 `d`、向左走 `l`、向右走 `r`。但是，由于有障碍，很多时候机器人的行动并不能成功。所以在这里，你需要实现一个函数，来判断机器人在某个位置，执行某个移动动作是否可行。\n",
    "\n",
    "---\n",
    "\n",
    "**任务4：**在下方代码中，实现名为 `is_move_valid_special` 的函数，它有两个输入，分别为机器人所在的位置坐标 `loc`，以及即将执行的动作 `act`，如 `(1,1)` 及 `u`。接着它的返回是一个布尔值，表明小车在 `loc` 位置下，是否可以执行动作 `act`。\n",
    "\n",
    "\n",
    "提示1：*可以读取上方定义的 `env_data` 变量，来读取模拟环境的数据。*\n",
    "\n",
    "提示2：*在实现函数后，请删去下方的 `pass` 代码。*\n",
    "\n",
    "提示3：*我们需要处理边界的情况，即机器人走到了虚拟环境边界时，是不能够走出虚拟环境的。*"
   ]
  },
  {
   "cell_type": "code",
   "execution_count": 17,
   "metadata": {},
   "outputs": [],
   "source": [
    "def is_move_valid_special(loc, act):\n",
    "    \"\"\"\n",
    "    Judge wether the robot can take action act\n",
    "    at location loc.\n",
    "    \n",
    "    Keyword arguments:\n",
    "    loc -- tuple, robots current location\n",
    "    act -- string, robots meant action\n",
    "    \n",
    "    \"\"\"\n",
    "    x, y = loc\n",
    "    if act == 'u':\n",
    "        x -= 1\n",
    "    elif act == 'd':\n",
    "        x += 1\n",
    "    elif act == 'l':\n",
    "        y -= 1\n",
    "    elif act == 'r':\n",
    "        y += 1\n",
    "    return (0 <= y <= columns -1) and (0 <= x <= rows -1) and (env_data[x][y] != 2)\n",
    "   \n"
   ]
  },
  {
   "cell_type": "code",
   "execution_count": 18,
   "metadata": {},
   "outputs": [
    {
     "name": "stderr",
     "output_type": "stream",
     "text": [
      ".\n",
      "----------------------------------------------------------------------\n",
      "Ran 1 test in 0.002s\n",
      "\n",
      "OK\n"
     ]
    }
   ],
   "source": [
    "%run -i -e test.py RobotControllortTestCase.test_is_move_valid_special"
   ]
  },
  {
   "cell_type": "markdown",
   "metadata": {},
   "source": [
    "---\n",
    "**任务5：**在下方代码中，重新实现一个名为 `is_move_valid` 的函数，它有三个输入，分别为模拟环境的数据 `env_data`、机器人所在的位置坐标 `loc`、以及即将执行的动作 `act`。它的返回值与此前一样，是一个布尔值，表明小车在给定的虚拟环境中的 `loc` 位置下，是否可以执行动作 `act`。"
   ]
  },
  {
   "cell_type": "code",
   "execution_count": 19,
   "metadata": {},
   "outputs": [],
   "source": [
    "def is_move_valid(env_data, loc, act):\n",
    "    \n",
    "    \"\"\"\n",
    "    Judge wether the robot can take action act\n",
    "    at location loc.\n",
    "    \n",
    "    Keyword arguments:\n",
    "    env -- list, the environment data\n",
    "    loc -- tuple, robots current location\n",
    "    act -- string, robots meant action\n",
    "     \"\"\"\n",
    "    #TODO 9\n",
    "    x, y = loc\n",
    "    if act == 'u':\n",
    "        x -= 1\n",
    "    elif act == 'd':\n",
    "        x += 1\n",
    "    elif act == 'l':\n",
    "        y -= 1\n",
    "    elif act == 'r':\n",
    "        y += 1\n",
    "    return (0 <= y <= columns -1) and (0 <= x <= rows -1) and (env_data[x][y] != 2)\n",
    "  \n",
    "   "
   ]
  },
  {
   "cell_type": "code",
   "execution_count": 21,
   "metadata": {},
   "outputs": [
    {
     "name": "stderr",
     "output_type": "stream",
     "text": [
      ".\n",
      "----------------------------------------------------------------------\n",
      "Ran 1 test in 0.003s\n",
      "\n",
      "OK\n"
     ]
    }
   ],
   "source": [
    "%run -i -e test.py RobotControllortTestCase.test_is_move_valid"
   ]
  },
  {
   "cell_type": "markdown",
   "metadata": {},
   "source": [
    "---\n",
    "\n",
    "**任务6：**请回答：\n",
    "  1. 在任务4及任务5中的实现的两个函数中，`env_data` 这个变量有什么不同？\n",
    "  2. 调用``is_move_valid``函数，参数为``env_data_``、``loc_``、``act_``，如果在函数内修改``env_data``是否会改变``env_data_``的值？为什么？\n",
    "  \n",
    "提示：_可以尝试从变量作用域的角度回答该问题1。_\n",
    "\n",
    "\n",
    "提示：_可以尝试从可变类型变量和不可变类型变量的角度回答该问题2。_\n",
    "\n"
   ]
  },
  {
   "cell_type": "markdown",
   "metadata": {},
   "source": [
    "**回答：** （请在这里填写你的回答）\n",
    "1. 不同点在于作用域。任务4中的env_data为全局变量，作用于整个项目；任务5中的为局部变量，只作用于它被定义的函数内，在该函数返回后就不再发挥作用。\n",
    "2. 会改变。字典是一个可变的对象，作为参数是传引用到函数。传引用方式下，形参和实参是同一个参数，二者地址相同。不可变对象是用传值的方式传函数，形参是实参的复制，但二者的地址并不相同。因此，在函数内修改实参env_data的值，形参env_data的值也会随之改变。"
   ]
  },
  {
   "cell_type": "markdown",
   "metadata": {},
   "source": [
    "---\n",
    "\n",
    "## 2.2 机器人可行动作\n",
    "\n",
    "---\n",
    "\n",
    "**任务7：**编写一个名为 `valid_actions` 的函数。它有两个输入，分别为虚拟环境的数据 `env_data`，以及机器人所在的位置 `loc`，输出是一个列表，表明机器人在这个位置所有的可行动作。\n",
    "\n",
    "提示：*可以尝试调用上方定义的`is_move_valid`函数。*\n"
   ]
  },
  {
   "cell_type": "code",
   "execution_count": 22,
   "metadata": {},
   "outputs": [],
   "source": [
    "## TODO 10 从头定义、实现你的函数\n",
    "def valid_actions(env_data, loc):\n",
    "    acts = []\n",
    "    all_acts = ['u','d','l','r']\n",
    "    for act in all_acts:\n",
    "        moves = is_move_valid(env_data, loc, act)\n",
    "        if moves == True:\n",
    "            acts.append(act)\n",
    "    return acts\n",
    "    \n"
   ]
  },
  {
   "cell_type": "code",
   "execution_count": 23,
   "metadata": {},
   "outputs": [
    {
     "name": "stderr",
     "output_type": "stream",
     "text": [
      ".\n",
      "----------------------------------------------------------------------\n",
      "Ran 1 test in 0.001s\n",
      "\n",
      "OK\n"
     ]
    }
   ],
   "source": [
    "%run -i -e test.py RobotControllortTestCase.test_valid_actions"
   ]
  },
  {
   "cell_type": "markdown",
   "metadata": {},
   "source": [
    "---\n",
    "\n",
    "## 2.3 移动机器人\n",
    "\n",
    "当机器人收到一个动作的时候，你机器人的位置应发生相应的变化。\n",
    "\n",
    "**任务8：**编写一个名为 `move_robot` 的函数，它有两个输入，分别为机器人当前所在的位置 `loc` 和即将执行的动作 `act`。接着会返回机器人执行动作之后的新位置 `new_loc`。"
   ]
  },
  {
   "cell_type": "code",
   "execution_count": 27,
   "metadata": {},
   "outputs": [],
   "source": [
    "##TODO 11 从头定义、实现你的函数\n",
    "\n",
    "def move_robot(loc, act):\n",
    "    move_dict = {\n",
    "        'u': (-1,0),\n",
    "        'd': (1,0),\n",
    "        'l': (0,-1),\n",
    "        'r': (0,1)\n",
    "    }\n",
    "\n",
    "    return loc[0] + move_dict[act][0], loc[1] + move_dict[act][1]\n",
    "\n"
   ]
  },
  {
   "cell_type": "code",
   "execution_count": 28,
   "metadata": {},
   "outputs": [
    {
     "name": "stderr",
     "output_type": "stream",
     "text": [
      ".\n",
      "----------------------------------------------------------------------\n",
      "Ran 1 test in 0.002s\n",
      "\n",
      "OK\n"
     ]
    }
   ],
   "source": [
    "%run -i -e test.py RobotControllortTestCase.test_move_robot"
   ]
  },
  {
   "cell_type": "markdown",
   "metadata": {},
   "source": [
    "---\n",
    "\n",
    "## 2.4 随机移动机器人\n",
    "\n",
    "接着，我们尝试在虚拟环境中随机移动机器人，看看会有什么效果。\n",
    "\n",
    "**任务9：**编写一个名为 `random_choose_actions` 的函数，它有两个输入，分别为虚拟环境的数据 `env_data`，以及机器人所在的位置 `loc`。机器人会执行一个300次的循环，每次循环，他会执行以下任务：\n",
    "\n",
    "1. 利用上方定义的 `valid_actions` 函数，找出当前位置下，机器人可行的动作；\n",
    "2. 利用 `random` 库中的 `choice` 函数，从机器人可行的动作中，随机挑选出一个动作；\n",
    "3. 接着根据这个动作，利用上方定义的 `move_robot` 函数，来移动机器人，并更新机器人的位置；\n",
    "4. 当机器人走到终点时，输出“在第n个回合找到宝藏！”。\n",
    "\n",
    "提示：如果机器人无法在300个回合内找到宝藏的话，试试看增大这个数字，也许会有不错的效果 :P"
   ]
  },
  {
   "cell_type": "code",
   "execution_count": 29,
   "metadata": {},
   "outputs": [],
   "source": [
    "##TODO 12 从头实现你的函数\n",
    "import random\n",
    "def random_choose_actions(env_data, robot_current_loc):\n",
    "    for i in range(300):\n",
    "        print('正在进行第{}个回合'.format(i))\n",
    "        acts = valid_actions(env_data, robot_current_loc)\n",
    "        act = random.choice(acts)\n",
    "        moves = is_move_valid(env_data, robot_current_loc, act)\n",
    "        if moves == True:\n",
    "            new_loc = move_robot(robot_current_loc, act)\n",
    "            robot_current_loc = new_loc\n",
    "            if env_data[new_loc[0]][new_loc[1]] == 3:\n",
    "                print('在第{}个回合找到宝藏！'.format(i))\n",
    "                break     "
   ]
  },
  {
   "cell_type": "code",
   "execution_count": 30,
   "metadata": {},
   "outputs": [
    {
     "name": "stdout",
     "output_type": "stream",
     "text": [
      "正在进行第0个回合\n",
      "正在进行第1个回合\n",
      "正在进行第2个回合\n",
      "正在进行第3个回合\n",
      "正在进行第4个回合\n",
      "正在进行第5个回合\n",
      "正在进行第6个回合\n",
      "正在进行第7个回合\n",
      "正在进行第8个回合\n",
      "正在进行第9个回合\n",
      "正在进行第10个回合\n",
      "正在进行第11个回合\n",
      "正在进行第12个回合\n",
      "正在进行第13个回合\n",
      "正在进行第14个回合\n",
      "正在进行第15个回合\n",
      "正在进行第16个回合\n",
      "正在进行第17个回合\n",
      "正在进行第18个回合\n",
      "正在进行第19个回合\n",
      "正在进行第20个回合\n",
      "正在进行第21个回合\n",
      "正在进行第22个回合\n",
      "正在进行第23个回合\n",
      "正在进行第24个回合\n",
      "正在进行第25个回合\n",
      "正在进行第26个回合\n",
      "正在进行第27个回合\n",
      "正在进行第28个回合\n",
      "正在进行第29个回合\n",
      "正在进行第30个回合\n",
      "正在进行第31个回合\n",
      "正在进行第32个回合\n",
      "正在进行第33个回合\n",
      "正在进行第34个回合\n",
      "正在进行第35个回合\n",
      "正在进行第36个回合\n",
      "正在进行第37个回合\n",
      "正在进行第38个回合\n",
      "正在进行第39个回合\n",
      "正在进行第40个回合\n",
      "正在进行第41个回合\n",
      "正在进行第42个回合\n",
      "正在进行第43个回合\n",
      "正在进行第44个回合\n",
      "正在进行第45个回合\n",
      "正在进行第46个回合\n",
      "正在进行第47个回合\n",
      "正在进行第48个回合\n",
      "正在进行第49个回合\n",
      "正在进行第50个回合\n",
      "正在进行第51个回合\n",
      "正在进行第52个回合\n",
      "正在进行第53个回合\n",
      "正在进行第54个回合\n",
      "正在进行第55个回合\n",
      "正在进行第56个回合\n",
      "正在进行第57个回合\n",
      "正在进行第58个回合\n",
      "正在进行第59个回合\n",
      "正在进行第60个回合\n",
      "正在进行第61个回合\n",
      "正在进行第62个回合\n",
      "正在进行第63个回合\n",
      "正在进行第64个回合\n",
      "正在进行第65个回合\n",
      "正在进行第66个回合\n",
      "正在进行第67个回合\n",
      "正在进行第68个回合\n",
      "正在进行第69个回合\n",
      "正在进行第70个回合\n",
      "正在进行第71个回合\n",
      "正在进行第72个回合\n",
      "正在进行第73个回合\n",
      "正在进行第74个回合\n",
      "正在进行第75个回合\n",
      "正在进行第76个回合\n",
      "正在进行第77个回合\n",
      "正在进行第78个回合\n",
      "正在进行第79个回合\n",
      "正在进行第80个回合\n",
      "正在进行第81个回合\n",
      "正在进行第82个回合\n",
      "正在进行第83个回合\n",
      "正在进行第84个回合\n",
      "正在进行第85个回合\n",
      "正在进行第86个回合\n",
      "正在进行第87个回合\n",
      "正在进行第88个回合\n",
      "正在进行第89个回合\n",
      "正在进行第90个回合\n",
      "正在进行第91个回合\n",
      "正在进行第92个回合\n",
      "正在进行第93个回合\n",
      "正在进行第94个回合\n",
      "正在进行第95个回合\n",
      "正在进行第96个回合\n",
      "正在进行第97个回合\n",
      "正在进行第98个回合\n",
      "正在进行第99个回合\n",
      "正在进行第100个回合\n",
      "正在进行第101个回合\n",
      "正在进行第102个回合\n",
      "正在进行第103个回合\n",
      "正在进行第104个回合\n",
      "正在进行第105个回合\n",
      "正在进行第106个回合\n",
      "正在进行第107个回合\n",
      "正在进行第108个回合\n",
      "正在进行第109个回合\n",
      "正在进行第110个回合\n",
      "正在进行第111个回合\n",
      "正在进行第112个回合\n",
      "正在进行第113个回合\n",
      "正在进行第114个回合\n",
      "正在进行第115个回合\n",
      "正在进行第116个回合\n",
      "正在进行第117个回合\n",
      "正在进行第118个回合\n",
      "正在进行第119个回合\n",
      "正在进行第120个回合\n",
      "正在进行第121个回合\n",
      "正在进行第122个回合\n",
      "正在进行第123个回合\n",
      "正在进行第124个回合\n",
      "正在进行第125个回合\n",
      "正在进行第126个回合\n",
      "正在进行第127个回合\n",
      "正在进行第128个回合\n",
      "正在进行第129个回合\n",
      "正在进行第130个回合\n",
      "正在进行第131个回合\n",
      "正在进行第132个回合\n",
      "正在进行第133个回合\n",
      "正在进行第134个回合\n",
      "正在进行第135个回合\n",
      "正在进行第136个回合\n",
      "正在进行第137个回合\n",
      "正在进行第138个回合\n",
      "正在进行第139个回合\n",
      "正在进行第140个回合\n",
      "正在进行第141个回合\n",
      "正在进行第142个回合\n",
      "正在进行第143个回合\n",
      "正在进行第144个回合\n",
      "正在进行第145个回合\n",
      "正在进行第146个回合\n",
      "正在进行第147个回合\n",
      "在第147个回合找到宝藏！\n"
     ]
    }
   ],
   "source": [
    "# 运行\n",
    "random_choose_actions(env_data, robot_current_loc)"
   ]
  },
  {
   "cell_type": "raw",
   "metadata": {},
   "source": [
    "References:\n",
    "Daifeng.(2018).Udacity - Jiqi Ren Zou Migong1[Udacity - Robot walking through the maze].[online] Available at: https://zhuanlan.zhihu.com/p/40987661 [Accessed 1 Jun.2020].\n",
    "\n",
    "Corwien.(2019). Python robot Zonghe Lianxi (Shiyi)[Python robot comprehensive exercise (11)].[online] Available at: http://www.digtime.cn/articles/34/python-robot-zong-he-lian-xi-shi-yi [Accessed 5 Jun.2020].\n"
   ]
  }
 ],
 "metadata": {
  "kernelspec": {
   "display_name": "Python 3",
   "language": "python",
   "name": "python3"
  },
  "language_info": {
   "codemirror_mode": {
    "name": "ipython",
    "version": 3
   },
   "file_extension": ".py",
   "mimetype": "text/x-python",
   "name": "python",
   "nbconvert_exporter": "python",
   "pygments_lexer": "ipython3",
   "version": "3.6.3"
  }
 },
 "nbformat": 4,
 "nbformat_minor": 2
}
